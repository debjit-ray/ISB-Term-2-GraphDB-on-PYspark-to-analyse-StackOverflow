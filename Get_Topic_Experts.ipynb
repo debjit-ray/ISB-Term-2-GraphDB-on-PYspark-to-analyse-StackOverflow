{
 "cells": [
  {
   "cell_type": "code",
   "execution_count": 1,
   "metadata": {
    "collapsed": true
   },
   "outputs": [],
   "source": [
    "### Import necessary Graphframes and SparkSQL packages"
   ]
  },
  {
   "cell_type": "code",
   "execution_count": 1,
   "metadata": {
    "collapsed": true
   },
   "outputs": [],
   "source": [
    "from graphframes import *\n",
    "from pyspark.sql.functions import *\n",
    "from pyspark import SparkConf, SparkContext\n",
    "from pyspark.sql import SparkSession\n",
    "spark = SparkSession.builder.appName(\"StackOverflow\").enableHiveSupport().getOrCreate()\n",
    "sqlContext = SparkSession(sc)"
   ]
  },
  {
   "cell_type": "markdown",
   "metadata": {},
   "source": [
    "### Load the questions and answers files and create temporary tables"
   ]
  },
  {
   "cell_type": "code",
   "execution_count": 6,
   "metadata": {
    "collapsed": true
   },
   "outputs": [],
   "source": [
    "import pandas as pd\n",
    "import functools\n",
    "\n",
    "from pyspark.sql import functions as F\n",
    "from graphframes import GraphFrame\n",
    "from pyspark.sql import types as T\n",
    "from pyspark.sql import Window"
   ]
  },
  {
   "cell_type": "code",
   "execution_count": 2,
   "metadata": {
    "collapsed": true
   },
   "outputs": [],
   "source": [
    "# get the questions and answers dataset\n",
    "\n",
    "questions = sqlContext.read.format(\"com.databricks.spark.csv\").options(header='true', inferschema='true').load(\"file:///home/cloudera/Documents/Big_Data_Management_2/Assignment/Cleaned_Questions.csv\")\n",
    "answers = sqlContext.read.format(\"com.databricks.spark.csv\").options(header='true', inferschema='true').load(\"file:///home/cloudera/Documents/Big_Data_Management_2/Assignment/answers_consolidated.csv\")\n",
    "\n",
    "questions = questions.select(\"id\", \"tags\", \"creationdate\").dropna()\n",
    "answers.registerTempTable(\"answers\")"
   ]
  },
  {
   "cell_type": "code",
   "execution_count": 3,
   "metadata": {
    "collapsed": false
   },
   "outputs": [],
   "source": [
    "def tags_to_array(x):\n",
    "    \n",
    "    \"\"\"Function to convert list of tags from string to array.\"\"\"\n",
    "    \n",
    "    x_split = x[1:-1].split(\", \")\n",
    "    x_clean = list(map(lambda x: x[1: -1], x_split))\n",
    "    \n",
    "    return x_clean\n",
    "\n",
    "# create udf to get tags as list\n",
    "udf_tags_to_array = F.udf(tags_to_array, T.ArrayType(T.StringType()))"
   ]
  },
  {
   "cell_type": "code",
   "execution_count": 4,
   "metadata": {
    "collapsed": false
   },
   "outputs": [],
   "source": [
    "# get separate row for all tags in list\n",
    "questions_tags_array = questions.withColumn(\"tags\", F.explode(udf_tags_to_array(\"tags\")))\n",
    "questions_tags_array.select(F.col(\"tags\").alias(\"tag\"), \n",
    "                            F.col(\"id\").alias(\"question_id\"), \n",
    "                            F.col(\"creationdate\").alias(\"ques_create_date\")\n",
    "                           ).registerTempTable(\"ques_tags\")"
   ]
  },
  {
   "cell_type": "markdown",
   "metadata": {},
   "source": [
    "### For each unique queston and tag combination, build one row and add the tag_id created above"
   ]
  },
  {
   "cell_type": "code",
   "execution_count": 8,
   "metadata": {
    "collapsed": true
   },
   "outputs": [],
   "source": [
    "def unionAll(*dfs):\n",
    "        return functools.reduce(lambda df1, df2: df1.union(df2), dfs)"
   ]
  },
  {
   "cell_type": "code",
   "execution_count": 12,
   "metadata": {
    "collapsed": false,
    "scrolled": false
   },
   "outputs": [
    {
     "name": "stdout",
     "output_type": "stream",
     "text": [
      "331703\n"
     ]
    }
   ],
   "source": [
    "# append all relationships to get the edges dataframe\n",
    "\n",
    "edge1 = sqlContext.sql(\"\"\"select question_id as src, tag as dst, \n",
    "                            null as is_accepted, null as score, null as reputation \n",
    "                            from ques_tags \"\"\") # question-tag\n",
    "\n",
    "edge2 = sqlContext.sql(\"\"\"select answer_id as src, question_id as dst,\n",
    "                            is_accepted, score, null as reputation\n",
    "                            from answers\"\"\") # answer-question\n",
    "\n",
    "edge3 = sqlContext.sql(\"\"\"select user_id as src, answer_id as dst,\n",
    "                            null as is_accepted, null as score, reputation\n",
    "                            from answers\"\"\") # user-answer\n",
    "\n",
    "edges_df = unionAll(edge1,edge2,edge3)\n",
    "\n",
    "print(edges_df.persist().count())"
   ]
  },
  {
   "cell_type": "code",
   "execution_count": 11,
   "metadata": {
    "collapsed": false
   },
   "outputs": [
    {
     "name": "stdout",
     "output_type": "stream",
     "text": [
      "232714\n"
     ]
    }
   ],
   "source": [
    "# append all vertices to get the vertices dataframe\n",
    "\n",
    "vertices1 = sqlContext.sql(\"select distinct(question_id) as id, 'question' as type from ques_tags \")\n",
    "vertices2 = sqlContext.sql(\"select distinct(tag) as id, 'tag' as type from ques_tags \")\n",
    "vertices3 = sqlContext.sql(\"select distinct(answer_id) as id, 'answer' as type from answers\")\n",
    "vertices4 = sqlContext.sql(\"select user_id as id, 'user' as type from answers\")\n",
    "vertices_df = unionAll(vertices1,vertices2,vertices3,vertices4)\n",
    "\n",
    "print(vertices_df.persist().count())"
   ]
  },
  {
   "cell_type": "code",
   "execution_count": 13,
   "metadata": {
    "collapsed": false
   },
   "outputs": [
    {
     "name": "stdout",
     "output_type": "stream",
     "text": [
      "GraphFrame(v:[id: string, type: string], e:[src: string, dst: string ... 3 more fields])\n"
     ]
    }
   ],
   "source": [
    "# create graphframe using vertices and edges\n",
    "main_graph = GraphFrame(vertices_df, edges_df)\n",
    "print(main_graph)"
   ]
  },
  {
   "cell_type": "code",
   "execution_count": 14,
   "metadata": {
    "collapsed": false
   },
   "outputs": [],
   "source": [
    "# transform graph using the provided motif\n",
    "graph_motif = main_graph.find(\"\"\"(user)-[user_to_answer]->(answer);\n",
    "                                 (answer)-[answer_to_question]->(question);\n",
    "                                 (question)-[question_to_tag]->(tag)\"\"\"\n",
    "                             )"
   ]
  },
  {
   "cell_type": "code",
   "execution_count": 15,
   "metadata": {
    "collapsed": false
   },
   "outputs": [
    {
     "name": "stdout",
     "output_type": "stream",
     "text": [
      "2292729\n",
      "+---------------+--------------------+------------------+--------------------+--------------------+--------------------+-------------------+\n",
      "|           user|      user_to_answer|            answer|  answer_to_question|            question|     question_to_tag|                tag|\n",
      "+---------------+--------------------+------------------+--------------------+--------------------+--------------------+-------------------+\n",
      "|[2623104, user]|[2623104, 4497404...|[44974041, answer]|[44974041, 346460...|[34646021, question]| [34646021, rest,,,]|        [rest, tag]|\n",
      "|[2623104, user]|[2623104, 4497404...|[44974041, answer]|[44974041, 346460...|[34646021, question]|[34646021, spring...|  [spring-mvc, tag]|\n",
      "|[2623104, user]|[2623104, 4497404...|[44974041, answer]|[44974041, 346460...|[34646021, question]|[34646021, rest-a...|[rest-assured, tag]|\n",
      "|[2623104, user]|[2623104, 4497404...|[44974041, answer]|[44974041, 346460...|[34646021, question]|[34646021, mockmv...|     [mockmvc, tag]|\n",
      "|[2623104, user]|[2623104, 4497404...|[44974041, answer]|[44974041, 346460...|[34646021, question]|[34646021, restfu...|    [restfuse, tag]|\n",
      "| [288917, user]|[288917, 34659934...|[34659934, answer]|[34659934, 346460...|[34646021, question]| [34646021, rest,,,]|        [rest, tag]|\n",
      "| [288917, user]|[288917, 34659934...|[34659934, answer]|[34659934, 346460...|[34646021, question]|[34646021, spring...|  [spring-mvc, tag]|\n",
      "| [288917, user]|[288917, 34659934...|[34659934, answer]|[34659934, 346460...|[34646021, question]|[34646021, rest-a...|[rest-assured, tag]|\n",
      "| [288917, user]|[288917, 34659934...|[34659934, answer]|[34659934, 346460...|[34646021, question]|[34646021, mockmv...|     [mockmvc, tag]|\n",
      "| [288917, user]|[288917, 34659934...|[34659934, answer]|[34659934, 346460...|[34646021, question]|[34646021, restfu...|    [restfuse, tag]|\n",
      "| [459640, user]|[459640, 34663403...|[34663403, answer]|[34663403, 346633...|[34663335, question]|  [34663335, c++,,,]|         [c++, tag]|\n",
      "| [459640, user]|[459640, 34663403...|[34663403, answer]|[34663403, 346633...|[34663335, question]|    [34663335, c,,,]|           [c, tag]|\n",
      "| [459640, user]|[459640, 34663403...|[34663403, answer]|[34663403, 346633...|[34663335, question]|[34663335, sizeof...|      [sizeof, tag]|\n",
      "| [459640, user]|[459640, 34663403...|[34663403, answer]|[34663403, 346633...|[34663335, question]|  [34663335, c++,,,]|         [c++, tag]|\n",
      "| [459640, user]|[459640, 34663403...|[34663403, answer]|[34663403, 346633...|[34663335, question]|    [34663335, c,,,]|           [c, tag]|\n",
      "| [459640, user]|[459640, 34663403...|[34663403, answer]|[34663403, 346633...|[34663335, question]|[34663335, sizeof...|      [sizeof, tag]|\n",
      "|[6694255, user]|[6694255, 4659109...|[46591092, answer]|[46591092, 348024...|[34802465, question]|[34802465, python...|      [python, tag]|\n",
      "|[6694255, user]|[6694255, 4659109...|[46591092, answer]|[46591092, 348024...|[34802465, question]|[34802465, python...|  [python-2.7, tag]|\n",
      "|[6694255, user]|[6694255, 4659109...|[46591092, answer]|[46591092, 348024...|[34802465, question]|[34802465, scikit...|[scikit-learn, tag]|\n",
      "|[1141392, user]|[1141392, 3721714...|[37217149, answer]|[37217149, 348024...|[34802465, question]|[34802465, python...|      [python, tag]|\n",
      "+---------------+--------------------+------------------+--------------------+--------------------+--------------------+-------------------+\n",
      "only showing top 20 rows\n",
      "\n"
     ]
    }
   ],
   "source": [
    "print(graph_motif.persist().count())\n",
    "\n",
    "graph_motif.show()"
   ]
  },
  {
   "cell_type": "code",
   "execution_count": 16,
   "metadata": {
    "collapsed": true
   },
   "outputs": [],
   "source": [
    "# get the user-tag combination with given metrics\n",
    "user_tag_map = graph_motif.filter(\n",
    "    \"answer_to_question.is_accepted = 'true'\"\n",
    ").groupby(\n",
    "    F.col(\"user.id\").alias(\"user\"), F.col(\"tag.id\").alias(\"tag\")\n",
    ").agg(\n",
    "    F.avg(\"answer_to_question.score\").alias(\"avg_score_per_answer\"),\n",
    "    F.avg(\"user_to_answer.reputation\").alias(\"user_reputation\")\n",
    ").withColumn(\n",
    "    \"composite_score\", \n",
    "    (F.col(\"avg_score_per_answer\") + F.col(\"user_reputation\"))/2\n",
    ")"
   ]
  },
  {
   "cell_type": "code",
   "execution_count": 17,
   "metadata": {
    "collapsed": false
   },
   "outputs": [],
   "source": [
    "w = Window.partitionBy(\"tag\").orderBy(F.desc(\"composite_score\"))"
   ]
  },
  {
   "cell_type": "code",
   "execution_count": 21,
   "metadata": {
    "collapsed": false
   },
   "outputs": [],
   "source": [
    "# get the top 5 users for each tag\n",
    "expert_tag_map = user_tag_map.withColumn(\n",
    "    \"rank\", F.rank().over(w)\n",
    ").filter(\n",
    "    F.col(\"rank\") <= 5\n",
    ").select(\n",
    "    \"user\", \"tag\", \"avg_score_per_answer\", \"user_reputation\"\n",
    ")"
   ]
  },
  {
   "cell_type": "code",
   "execution_count": 22,
   "metadata": {
    "collapsed": false
   },
   "outputs": [
    {
     "data": {
      "text/plain": [
       "13695"
      ]
     },
     "execution_count": 22,
     "metadata": {},
     "output_type": "execute_result"
    }
   ],
   "source": [
    "expert_tag_map.persist().count()"
   ]
  },
  {
   "cell_type": "code",
   "execution_count": 23,
   "metadata": {
    "collapsed": false
   },
   "outputs": [],
   "source": [
    "expert_tag_map.toPandas().to_csv(\"experts_tag_map.csv\", index = False)"
   ]
  },
  {
   "cell_type": "code",
   "execution_count": null,
   "metadata": {
    "collapsed": true
   },
   "outputs": [],
   "source": []
  }
 ],
 "metadata": {
  "kernelspec": {
   "display_name": "Python [Root]",
   "language": "python",
   "name": "Python [Root]"
  },
  "language_info": {
   "codemirror_mode": {
    "name": "ipython",
    "version": 2
   },
   "file_extension": ".py",
   "mimetype": "text/x-python",
   "name": "python",
   "nbconvert_exporter": "python",
   "pygments_lexer": "ipython2",
   "version": "2.7.12"
  }
 },
 "nbformat": 4,
 "nbformat_minor": 0
}
